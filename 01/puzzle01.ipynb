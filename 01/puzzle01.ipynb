{
 "cells": [
  {
   "cell_type": "markdown",
   "id": "96fde704-9e6c-4716-983e-f8c7d67bfb0f",
   "metadata": {},
   "source": [
    "# Prep\n",
    "\n",
    "Load the CSV into a Data Frame, and sort each column"
   ]
  },
  {
   "cell_type": "code",
   "execution_count": 3,
   "id": "2f3104c1-dee3-437e-817c-379c3ca110a5",
   "metadata": {},
   "outputs": [],
   "source": [
    "import pandas as pd"
   ]
  },
  {
   "cell_type": "code",
   "execution_count": 22,
   "id": "b3a60bb5-8a1b-46d1-93e1-98b38037537a",
   "metadata": {},
   "outputs": [],
   "source": [
    "df = pd.read_csv(\"input.txt\", delimiter=\"\\\\s+\",header=None).apply(sorted)"
   ]
  },
  {
   "cell_type": "markdown",
   "id": "e99ac260-edc1-45b4-82d7-a69b858380cd",
   "metadata": {},
   "source": [
    "# Part 1\n",
    "\n",
    "Get the abs diff of each row. Note that the `diff()` function returns a Series, where each element is diffed to the item 1 before it.\n",
    "\n",
    "This means that we need to get the 2nd item (index 1).\n",
    "\n",
    "We also need to operate down each row (`axis=1`), rather than along columns (`axis=0`)"
   ]
  },
  {
   "cell_type": "code",
   "execution_count": 24,
   "id": "aea1e233-8cf1-4de9-aaf0-3ae1994d1901",
   "metadata": {},
   "outputs": [
    {
     "data": {
      "text/plain": [
       "np.float64(2196996.0)"
      ]
     },
     "execution_count": 24,
     "metadata": {},
     "output_type": "execute_result"
    }
   ],
   "source": [
    "df.apply(lambda row: abs(row.diff()[1]), axis=1).sum()"
   ]
  },
  {
   "cell_type": "markdown",
   "id": "7d140e78-4114-4e0b-a900-6e5fa60e2b3c",
   "metadata": {},
   "source": [
    "# Part 2\n",
    "\n",
    "First, let's make a new Series called `counts` whose key is each value, and the value of which is the count of the element. This serves as a quick dictionary lookup later"
   ]
  },
  {
   "cell_type": "code",
   "execution_count": 51,
   "id": "7a38b950-792e-4d18-9603-768f84c226d1",
   "metadata": {},
   "outputs": [],
   "source": [
    "counts = df[1].value_counts()"
   ]
  },
  {
   "cell_type": "markdown",
   "id": "e0db9996-5e0b-44cc-87a2-59facd63ed4d",
   "metadata": {},
   "source": [
    "Then, similar to above, we apply a lambda function down the frame, getting the counts and multiplying it by the value. If counts is 0, then we get 0."
   ]
  },
  {
   "cell_type": "code",
   "execution_count": 50,
   "id": "ffc3270b-b6b3-49cf-b66e-f86497937750",
   "metadata": {},
   "outputs": [
    {
     "data": {
      "text/plain": [
       "np.int64(23655822)"
      ]
     },
     "execution_count": 50,
     "metadata": {},
     "output_type": "execute_result"
    }
   ],
   "source": [
    "df[0].apply(lambda v: counts.get(v, default=0) * v).sum()"
   ]
  }
 ],
 "metadata": {
  "kernelspec": {
   "display_name": "Python 3 (ipykernel)",
   "language": "python",
   "name": "python3"
  },
  "language_info": {
   "codemirror_mode": {
    "name": "ipython",
    "version": 3
   },
   "file_extension": ".py",
   "mimetype": "text/x-python",
   "name": "python",
   "nbconvert_exporter": "python",
   "pygments_lexer": "ipython3",
   "version": "3.12.4"
  }
 },
 "nbformat": 4,
 "nbformat_minor": 5
}
