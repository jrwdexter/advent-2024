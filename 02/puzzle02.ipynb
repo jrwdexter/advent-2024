{
 "cells": [
  {
   "cell_type": "markdown",
   "id": "034e77cc-69b2-48d1-a053-c193253a88d7",
   "metadata": {},
   "source": [
    "# Prep"
   ]
  },
  {
   "cell_type": "code",
   "execution_count": 1,
   "id": "93412681-87de-44fd-a67a-c30dc2a7e638",
   "metadata": {},
   "outputs": [],
   "source": [
    "import pandas as pd\n",
    "import numpy as np"
   ]
  },
  {
   "cell_type": "code",
   "execution_count": 2,
   "id": "47f8d35d-1c17-4cd8-a120-cc1968c054a8",
   "metadata": {},
   "outputs": [],
   "source": [
    "df = pd.read_csv(\"input.txt\", sep=\"\\\\s+\", header=None)"
   ]
  },
  {
   "cell_type": "markdown",
   "id": "2e132a1b-de13-48d5-bead-5e514d340461",
   "metadata": {},
   "source": [
    "# Puzzle 1\n",
    "\n",
    "Let's first get some sorted data frames (one ascending, one descending). We also need to fill any NaN as 0 after we sort, as according to IEEE, NaN != NaN (it does not equal itself). So we need to fill these as any value to make sure that we can compare later correctly."
   ]
  },
  {
   "cell_type": "code",
   "execution_count": 26,
   "id": "5bb3fb9b-40d2-4dbd-86a5-7be0603f87f9",
   "metadata": {},
   "outputs": [],
   "source": [
    "df_sorted = pd.DataFrame(np.sort(df.values, axis=1), columns=df.columns).fillna(0)\n",
    "# Fancy sorting here by numpy - make the values negative, then sort them, then make them negative again\n",
    "# There are other ways to do this, but meh\n",
    "df_reverse = pd.DataFrame(-np.sort(-df.values, axis=1), columns=df.columns).fillna(0)"
   ]
  },
  {
   "cell_type": "markdown",
   "id": "95bad861-3c25-47e9-a5d4-94348e81afc4",
   "metadata": {},
   "source": [
    "Next, let's just get some max diffs and min diffs for all rows:"
   ]
  },
  {
   "cell_type": "code",
   "execution_count": 4,
   "id": "23f935f7-7702-4313-8689-4bfcf476b035",
   "metadata": {},
   "outputs": [],
   "source": [
    "max_diffs = df.diff(axis=1).apply(abs).max(axis=1)\n",
    "min_diffs = df.diff(axis=1).apply(abs).min(axis=1)"
   ]
  },
  {
   "cell_type": "markdown",
   "id": "bf1464b8-2b42-4ad0-9927-0c925c6cd955",
   "metadata": {},
   "source": [
    "Fill our original dataframe with 0s for convenience"
   ]
  },
  {
   "cell_type": "code",
   "execution_count": 23,
   "id": "5e284408-9922-4a6f-8c11-5a2f7437d7be",
   "metadata": {},
   "outputs": [],
   "source": [
    "df_filled = df.fillna(0)"
   ]
  },
  {
   "cell_type": "markdown",
   "id": "5806838c-8edb-4ab6-9634-78f1e90279f0",
   "metadata": {},
   "source": [
    "Finally, count each row that equals either (sorted or reverse), and also satisfies (always increasing or decreasing by [1-3] inclusive"
   ]
  },
  {
   "cell_type": "code",
   "execution_count": 24,
   "id": "34812e49-a978-42f9-9436-40ab0ae69062",
   "metadata": {},
   "outputs": [
    {
     "data": {
      "text/plain": [
       "True     663\n",
       "False    337\n",
       "Name: count, dtype: int64"
      ]
     },
     "execution_count": 24,
     "metadata": {},
     "output_type": "execute_result"
    }
   ],
   "source": [
    "(((df_filled == df_sorted).all(axis=1) | (df_filled == df_reverse).all(axis=1)) & (max_diffs <= 3) & (min_diffs > 0)).value_counts()"
   ]
  },
  {
   "cell_type": "markdown",
   "id": "655ccb68-6081-4bff-aafd-10affede8a81",
   "metadata": {},
   "source": [
    "# Puzzle 2"
   ]
  },
  {
   "cell_type": "code",
   "execution_count": null,
   "id": "2d2a9837-f5a4-42b0-807b-345554ea0e70",
   "metadata": {},
   "outputs": [],
   "source": []
  }
 ],
 "metadata": {
  "kernelspec": {
   "display_name": "Python 3 (ipykernel)",
   "language": "python",
   "name": "python3"
  },
  "language_info": {
   "codemirror_mode": {
    "name": "ipython",
    "version": 3
   },
   "file_extension": ".py",
   "mimetype": "text/x-python",
   "name": "python",
   "nbconvert_exporter": "python",
   "pygments_lexer": "ipython3",
   "version": "3.12.4"
  }
 },
 "nbformat": 4,
 "nbformat_minor": 5
}
